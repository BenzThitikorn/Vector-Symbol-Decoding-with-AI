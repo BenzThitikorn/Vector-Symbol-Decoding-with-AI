{
  "nbformat": 4,
  "nbformat_minor": 0,
  "metadata": {
    "colab": {
      "provenance": [],
      "mount_file_id": "1wDYs-1qRfDy_9XK3AxzNzMB5IU9BtRyO",
      "authorship_tag": "ABX9TyPU5CCm0cQHFpXpG3210p5+",
      "include_colab_link": true
    },
    "kernelspec": {
      "name": "python3",
      "display_name": "Python 3"
    },
    "language_info": {
      "name": "python"
    }
  },
  "cells": [
    {
      "cell_type": "markdown",
      "metadata": {
        "id": "view-in-github",
        "colab_type": "text"
      },
      "source": [
        "<a href=\"https://colab.research.google.com/github/BenzThitikorn/Vector-Symbol-Decoding-with-AI/blob/main/Data_Generation_Using_PYLDPC.ipynb\" target=\"_parent\"><img src=\"https://colab.research.google.com/assets/colab-badge.svg\" alt=\"Open In Colab\"/></a>"
      ]
    },
    {
      "cell_type": "code",
      "source": [
        "import sys\n",
        "sys.path.append('/content/drive/MyDrive/VSD + AI/')\n",
        "\n",
        "!pip install --upgrade pyldpc"
      ],
      "metadata": {
        "colab": {
          "base_uri": "https://localhost:8080/"
        },
        "id": "8L9J7aAjMjPA",
        "outputId": "69ecd15b-254f-4fd2-b7f6-00305be6d2a7"
      },
      "execution_count": 1,
      "outputs": [
        {
          "output_type": "stream",
          "name": "stdout",
          "text": [
            "Collecting pyldpc\n",
            "  Downloading pyldpc-0.7.9.tar.gz (1.1 MB)\n",
            "\u001b[?25l     \u001b[90m━━━━━━━━━━━━━━━━━━━━━━━━━━━━━━━━━━━━━━━━\u001b[0m \u001b[32m0.0/1.1 MB\u001b[0m \u001b[31m?\u001b[0m eta \u001b[36m-:--:--\u001b[0m\r\u001b[2K     \u001b[91m━━━━━━━━━\u001b[0m\u001b[91m╸\u001b[0m\u001b[90m━━━━━━━━━━━━━━━━━━━━━━━━━━━━━━\u001b[0m \u001b[32m0.3/1.1 MB\u001b[0m \u001b[31m7.8 MB/s\u001b[0m eta \u001b[36m0:00:01\u001b[0m\r\u001b[2K     \u001b[91m━━━━━━━━━━━━━━━━━━━━━━━━━━━━━━\u001b[0m\u001b[91m╸\u001b[0m\u001b[90m━━━━━━━━━\u001b[0m \u001b[32m0.8/1.1 MB\u001b[0m \u001b[31m11.5 MB/s\u001b[0m eta \u001b[36m0:00:01\u001b[0m\r\u001b[2K     \u001b[91m━━━━━━━━━━━━━━━━━━━━━━━━━━━━━━━━━━━━━━━\u001b[0m\u001b[91m╸\u001b[0m \u001b[32m1.1/1.1 MB\u001b[0m \u001b[31m11.3 MB/s\u001b[0m eta \u001b[36m0:00:01\u001b[0m\r\u001b[2K     \u001b[90m━━━━━━━━━━━━━━━━━━━━━━━━━━━━━━━━━━━━━━━━\u001b[0m \u001b[32m1.1/1.1 MB\u001b[0m \u001b[31m8.2 MB/s\u001b[0m eta \u001b[36m0:00:00\u001b[0m\n",
            "\u001b[?25h  Preparing metadata (setup.py) ... \u001b[?25l\u001b[?25hdone\n",
            "Requirement already satisfied: numpy in /usr/local/lib/python3.11/dist-packages (from pyldpc) (2.0.2)\n",
            "Requirement already satisfied: scipy in /usr/local/lib/python3.11/dist-packages (from pyldpc) (1.14.1)\n",
            "Requirement already satisfied: numba in /usr/local/lib/python3.11/dist-packages (from pyldpc) (0.60.0)\n",
            "Requirement already satisfied: llvmlite<0.44,>=0.43.0dev0 in /usr/local/lib/python3.11/dist-packages (from numba->pyldpc) (0.43.0)\n",
            "Building wheels for collected packages: pyldpc\n",
            "  Building wheel for pyldpc (setup.py) ... \u001b[?25l\u001b[?25hdone\n",
            "  Created wheel for pyldpc: filename=pyldpc-0.7.9-py3-none-any.whl size=14303 sha256=cfc662d240c56a313b11fc76d9619d9d23590201603aa2e8260c525db90e3f48\n",
            "  Stored in directory: /root/.cache/pip/wheels/64/94/ad/d9f332bc2a1e857f54fe35b124d59d27d681f37a0e15b7b027\n",
            "Successfully built pyldpc\n",
            "Installing collected packages: pyldpc\n",
            "Successfully installed pyldpc-0.7.9\n"
          ]
        }
      ]
    },
    {
      "cell_type": "markdown",
      "source": [
        "# Code Set Up"
      ],
      "metadata": {
        "id": "VtP216cWWVq4"
      }
    },
    {
      "cell_type": "code",
      "source": [
        "n = 30 #Code lenght\n",
        "r = 16 #Symbol lenght"
      ],
      "metadata": {
        "id": "Y_k3omwmWAsb"
      },
      "execution_count": 2,
      "outputs": []
    },
    {
      "cell_type": "code",
      "execution_count": 3,
      "metadata": {
        "id": "XexJkpcXItQu",
        "colab": {
          "base_uri": "https://localhost:8080/"
        },
        "outputId": "d16d8152-87c6-4890-d1fb-38f9a4422480"
      },
      "outputs": [
        {
          "output_type": "stream",
          "name": "stdout",
          "text": [
            "H matrix: 15 rows, 30 columns\n",
            "G matrix: 17 rows, 30 columns\n"
          ]
        }
      ],
      "source": [
        "#LDPC Setting\n",
        "from pyldpc import make_ldpc\n",
        "d_v=3\n",
        "d_c=6\n",
        "H,Gt = make_ldpc(n, d_v=3, d_c=6, systematic=True, sparse=True, seed=1)\n",
        "G=Gt.T\n",
        "j=G.shape[0]\n",
        "print(f\"H matrix: {H.shape[0]} rows, {H.shape[1]} columns\")\n",
        "print(f\"G matrix: {G.shape[0]} rows, {G.shape[1]} columns\")"
      ]
    },
    {
      "cell_type": "code",
      "source": [
        "# prompt: save H and Gt\n",
        "\n",
        "import numpy as np\n",
        "\n",
        "# Assuming H and Gt are already defined from the previous code execution\n",
        "np.save('H_matrix.npy', H)\n",
        "np.save('Gt_matrix.npy', Gt)\n"
      ],
      "metadata": {
        "id": "nAn65a96YJ6g"
      },
      "execution_count": 4,
      "outputs": []
    },
    {
      "cell_type": "markdown",
      "source": [
        "## Function Defined"
      ],
      "metadata": {
        "id": "xu7D61_MXBNR"
      }
    },
    {
      "cell_type": "code",
      "source": [
        "import Channel_Coding as cc\n",
        "import numpy as np\n",
        "\n",
        "def VSD_normal(H, Y):\n",
        "    Y_Binary = np.array(Y, dtype=int)\n",
        "\n",
        "    # Compute Syndrome Matrix\n",
        "    S_Binary = np.floor(np.mod(np.dot(H, Y_Binary), 2)).astype(int)\n",
        "    S_Gauss, S_rank, Index_Rows = cc.Compute_Gauss_Jordan_Reduction(S_Binary)\n",
        "\n",
        "    # Compute Error Locating Vector\n",
        "    Error_Locating_Vector = cc.Compute_Error_Locating_Vector(S_Gauss, Index_Rows, H)\n",
        "\n",
        "    # Find Number of Erroneous Symbols\n",
        "    Number_Error = np.count_nonzero(Error_Locating_Vector == 0)\n",
        "\n",
        "    if Number_Error == 0:\n",
        "        return Y, 1  # No errors detected\n",
        "\n",
        "    # Check if Rank of S matches Number of Erroneous Symbols\n",
        "    if S_rank == Number_Error:\n",
        "        S_Sub = S_Binary[Index_Rows, :]\n",
        "        Position_Error = np.where(Error_Locating_Vector == 0)[0]\n",
        "        H_Sub = H[np.ix_(Index_Rows, Position_Error)]\n",
        "\n",
        "        # Check if H_Sub is invertible\n",
        "        if np.linalg.det(H_Sub) == 0:\n",
        "            #print(\"normal\",H_Sub)\n",
        "            return Y_Binary, 0  # Cannot correct errors\n",
        "\n",
        "        H_Sub_inv = np.linalg.inv(H_Sub)\n",
        "        Error_Binary = np.floor(np.mod(np.dot(H_Sub_inv, S_Sub), 2)).astype(int)\n",
        "\n",
        "        # Correct the errors\n",
        "        for index in range(len(Position_Error)):\n",
        "            Y_Binary[Position_Error[index]] ^= Error_Binary[index]\n",
        "\n",
        "        Y_decode = Y_Binary  # Decoded output\n",
        "        return Y_decode, 1  # Successful correction\n",
        "    else:\n",
        "        return Y_Binary, 0  # Unable to correct errors\n",
        "\n",
        "def VSD_normal_get0fast(H,Y):\n",
        "    Y_Binary = np.array(Y, dtype=int)\n",
        "\n",
        "    # Compute Syndrome Matrix\n",
        "    S_Binary = np.floor(np.mod(np.dot(H, Y_Binary), 2)).astype(int)\n",
        "    S_Gauss, S_rank, Index_Rows = cc.Compute_Gauss_Jordan_Reduction(S_Binary)\n",
        "\n",
        "    # Compute Error Locating Vector\n",
        "    Error_Locating_Vector = cc.Compute_Error_Locating_Vector(S_Gauss, Index_Rows, H)\n",
        "\n",
        "    # Find Number of Erroneous Symbols\n",
        "    Number_Error = np.count_nonzero(Error_Locating_Vector == 0)\n",
        "\n",
        "    if Number_Error == 0:\n",
        "        return Y, 1  # No errors detected\n",
        "\n",
        "    # Check if Rank of S matches Number of Erroneous Symbols\n",
        "    if S_rank == Number_Error:\n",
        "        S_Sub = S_Binary[Index_Rows, :]\n",
        "        Position_Error = np.where(Error_Locating_Vector == 0)[0]\n",
        "        H_Sub = H[np.ix_(Index_Rows, Position_Error)]\n",
        "\n",
        "        if np.linalg.det(H_Sub) == 0:\n",
        "            return Y_Binary, 0  # Cannot correct errors\n",
        "\n",
        "\n",
        "        return 0,   1  # Successful correction\n",
        "    else:\n",
        "        return 0,   0  # Unable to correct errors\n"
      ],
      "metadata": {
        "id": "7l0WH8wTP0zd"
      },
      "execution_count": 5,
      "outputs": []
    },
    {
      "cell_type": "markdown",
      "source": [
        "# Simulation Step"
      ],
      "metadata": {
        "id": "gki0hKSrWdLI"
      }
    },
    {
      "cell_type": "code",
      "source": [
        "def q_ary_error_channel(prob_error,num):\n",
        "\trng = np.random.default_rng()\n",
        "\tProbability = [1-prob_error, prob_error]\n",
        "\tchannel = rng.choice(2, num, p=Probability)\n",
        "\treturn channel\n",
        "\n",
        "def sigma_gen(prob_error,num):\n",
        "  channel = q_ary_error_channel(prob_error,num)\n",
        "  return (channel+1)%2"
      ],
      "metadata": {
        "id": "E7--YnFQXkt9"
      },
      "execution_count": 6,
      "outputs": []
    },
    {
      "cell_type": "code",
      "source": [
        "num_samples = 1\n",
        "SER = 0.1\n",
        "j=G.shape[0]\n",
        "for i in range(num_samples):\n",
        "  error_positions=cc.q_ary_error_channel(0.1,n) #Error Position = 1\n",
        "  sigma = sigma_gen(SER,n)\n",
        "  message = np.random.randint(0, 2, (r, j))\n",
        "  codeword = np.matmul(message, G).astype(np.int8) % 2\n",
        "  error = np.zeros_like(codeword)\n",
        "  error[:, sigma == 0] = 1\n",
        "\n",
        "  print(\"Error Locating = \",sigma)\n",
        "  print(error)\n",
        "#print(np.matmul(H, codeword.T)%2)"
      ],
      "metadata": {
        "colab": {
          "base_uri": "https://localhost:8080/"
        },
        "id": "J_DZIWG6X9LE",
        "outputId": "d810a040-d4e9-428f-cc51-1dee41ccb1a0"
      },
      "execution_count": 7,
      "outputs": [
        {
          "output_type": "stream",
          "name": "stdout",
          "text": [
            "Error Locating =  [1 1 1 1 1 1 1 1 1 1 1 1 1 1 1 0 1 0 1 1 1 1 1 1 1 1 1 1 1 1]\n",
            "[[0 0 0 0 0 0 0 0 0 0 0 0 0 0 0 1 0 1 0 0 0 0 0 0 0 0 0 0 0 0]\n",
            " [0 0 0 0 0 0 0 0 0 0 0 0 0 0 0 1 0 1 0 0 0 0 0 0 0 0 0 0 0 0]\n",
            " [0 0 0 0 0 0 0 0 0 0 0 0 0 0 0 1 0 1 0 0 0 0 0 0 0 0 0 0 0 0]\n",
            " [0 0 0 0 0 0 0 0 0 0 0 0 0 0 0 1 0 1 0 0 0 0 0 0 0 0 0 0 0 0]\n",
            " [0 0 0 0 0 0 0 0 0 0 0 0 0 0 0 1 0 1 0 0 0 0 0 0 0 0 0 0 0 0]\n",
            " [0 0 0 0 0 0 0 0 0 0 0 0 0 0 0 1 0 1 0 0 0 0 0 0 0 0 0 0 0 0]\n",
            " [0 0 0 0 0 0 0 0 0 0 0 0 0 0 0 1 0 1 0 0 0 0 0 0 0 0 0 0 0 0]\n",
            " [0 0 0 0 0 0 0 0 0 0 0 0 0 0 0 1 0 1 0 0 0 0 0 0 0 0 0 0 0 0]\n",
            " [0 0 0 0 0 0 0 0 0 0 0 0 0 0 0 1 0 1 0 0 0 0 0 0 0 0 0 0 0 0]\n",
            " [0 0 0 0 0 0 0 0 0 0 0 0 0 0 0 1 0 1 0 0 0 0 0 0 0 0 0 0 0 0]\n",
            " [0 0 0 0 0 0 0 0 0 0 0 0 0 0 0 1 0 1 0 0 0 0 0 0 0 0 0 0 0 0]\n",
            " [0 0 0 0 0 0 0 0 0 0 0 0 0 0 0 1 0 1 0 0 0 0 0 0 0 0 0 0 0 0]\n",
            " [0 0 0 0 0 0 0 0 0 0 0 0 0 0 0 1 0 1 0 0 0 0 0 0 0 0 0 0 0 0]\n",
            " [0 0 0 0 0 0 0 0 0 0 0 0 0 0 0 1 0 1 0 0 0 0 0 0 0 0 0 0 0 0]\n",
            " [0 0 0 0 0 0 0 0 0 0 0 0 0 0 0 1 0 1 0 0 0 0 0 0 0 0 0 0 0 0]\n",
            " [0 0 0 0 0 0 0 0 0 0 0 0 0 0 0 1 0 1 0 0 0 0 0 0 0 0 0 0 0 0]]\n"
          ]
        }
      ]
    },
    {
      "cell_type": "code",
      "source": [
        "for i in range(num_samples):\n",
        "        msg = message[i].astype(int)\n",
        "        error_positions\n",
        "        sigma = np.zeros(n, dtype=int)\n",
        "        codeword = np.matmul(msg, G).astype(np.int8) % 2\n",
        "        num_errors = int(prob_row_error * n)\n",
        "        error_positions = np.random.choice(n, num_errors, replace=False)\n",
        "        sigma[error_positions] = 1\n",
        "        error = np.zeros_like(codeword)\n",
        "        error[:, sigma == 1] = sparse_random(r, np.sum(sigma), density=0.5, format='csr', dtype=int).toarray() % 2\n",
        "        received = (codeword + error) % 2\n",
        "        syndrome = np.matmul(H, received.T).astype(int) % 2\n",
        "\n",
        "        X_train_dset[i] = syndrome\n",
        "        y_train_dset[i] = sigma\n",
        "\n",
        "print(\"Data saved to data data16bits_2M.h5\")"
      ],
      "metadata": {
        "id": "x6iBbG9_WfDb",
        "colab": {
          "base_uri": "https://localhost:8080/",
          "height": 201
        },
        "outputId": "cc963b84-445f-47f3-c8cb-66bcba995aab"
      },
      "execution_count": 8,
      "outputs": [
        {
          "output_type": "error",
          "ename": "NameError",
          "evalue": "name 'prob_row_error' is not defined",
          "traceback": [
            "\u001b[0;31m---------------------------------------------------------------------------\u001b[0m",
            "\u001b[0;31mNameError\u001b[0m                                 Traceback (most recent call last)",
            "\u001b[0;32m<ipython-input-8-34611b7717ae>\u001b[0m in \u001b[0;36m<cell line: 0>\u001b[0;34m()\u001b[0m\n\u001b[1;32m      4\u001b[0m         \u001b[0msigma\u001b[0m \u001b[0;34m=\u001b[0m \u001b[0mnp\u001b[0m\u001b[0;34m.\u001b[0m\u001b[0mzeros\u001b[0m\u001b[0;34m(\u001b[0m\u001b[0mn\u001b[0m\u001b[0;34m,\u001b[0m \u001b[0mdtype\u001b[0m\u001b[0;34m=\u001b[0m\u001b[0mint\u001b[0m\u001b[0;34m)\u001b[0m\u001b[0;34m\u001b[0m\u001b[0;34m\u001b[0m\u001b[0m\n\u001b[1;32m      5\u001b[0m         \u001b[0mcodeword\u001b[0m \u001b[0;34m=\u001b[0m \u001b[0mnp\u001b[0m\u001b[0;34m.\u001b[0m\u001b[0mmatmul\u001b[0m\u001b[0;34m(\u001b[0m\u001b[0mmsg\u001b[0m\u001b[0;34m,\u001b[0m \u001b[0mG\u001b[0m\u001b[0;34m)\u001b[0m\u001b[0;34m.\u001b[0m\u001b[0mastype\u001b[0m\u001b[0;34m(\u001b[0m\u001b[0mnp\u001b[0m\u001b[0;34m.\u001b[0m\u001b[0mint8\u001b[0m\u001b[0;34m)\u001b[0m \u001b[0;34m%\u001b[0m \u001b[0;36m2\u001b[0m\u001b[0;34m\u001b[0m\u001b[0;34m\u001b[0m\u001b[0m\n\u001b[0;32m----> 6\u001b[0;31m         \u001b[0mnum_errors\u001b[0m \u001b[0;34m=\u001b[0m \u001b[0mint\u001b[0m\u001b[0;34m(\u001b[0m\u001b[0mprob_row_error\u001b[0m \u001b[0;34m*\u001b[0m \u001b[0mn\u001b[0m\u001b[0;34m)\u001b[0m\u001b[0;34m\u001b[0m\u001b[0;34m\u001b[0m\u001b[0m\n\u001b[0m\u001b[1;32m      7\u001b[0m         \u001b[0merror_positions\u001b[0m \u001b[0;34m=\u001b[0m \u001b[0mnp\u001b[0m\u001b[0;34m.\u001b[0m\u001b[0mrandom\u001b[0m\u001b[0;34m.\u001b[0m\u001b[0mchoice\u001b[0m\u001b[0;34m(\u001b[0m\u001b[0mn\u001b[0m\u001b[0;34m,\u001b[0m \u001b[0mnum_errors\u001b[0m\u001b[0;34m,\u001b[0m \u001b[0mreplace\u001b[0m\u001b[0;34m=\u001b[0m\u001b[0;32mFalse\u001b[0m\u001b[0;34m)\u001b[0m\u001b[0;34m\u001b[0m\u001b[0;34m\u001b[0m\u001b[0m\n\u001b[1;32m      8\u001b[0m         \u001b[0msigma\u001b[0m\u001b[0;34m[\u001b[0m\u001b[0merror_positions\u001b[0m\u001b[0;34m]\u001b[0m \u001b[0;34m=\u001b[0m \u001b[0;36m1\u001b[0m\u001b[0;34m\u001b[0m\u001b[0;34m\u001b[0m\u001b[0m\n",
            "\u001b[0;31mNameError\u001b[0m: name 'prob_row_error' is not defined"
          ]
        }
      ]
    },
    {
      "cell_type": "markdown",
      "source": [
        "# Fun Space"
      ],
      "metadata": {
        "id": "sO4_0npsODLY"
      }
    },
    {
      "cell_type": "code",
      "source": [
        "print(H)"
      ],
      "metadata": {
        "id": "DmI_wbQXNuqK"
      },
      "execution_count": null,
      "outputs": []
    },
    {
      "cell_type": "code",
      "source": [
        "print(G)"
      ],
      "metadata": {
        "id": "bYIs2c84OBM0"
      },
      "execution_count": null,
      "outputs": []
    },
    {
      "cell_type": "code",
      "source": [],
      "metadata": {
        "id": "7614tRqCPt8p"
      },
      "execution_count": null,
      "outputs": []
    }
  ]
}