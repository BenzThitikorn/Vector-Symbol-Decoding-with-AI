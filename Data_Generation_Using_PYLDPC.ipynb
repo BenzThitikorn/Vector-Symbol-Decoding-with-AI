{
  "cells": [
    {
      "cell_type": "markdown",
      "metadata": {
        "colab_type": "text",
        "id": "view-in-github"
      },
      "source": [
        "<a href=\"https://colab.research.google.com/github/BenzThitikorn/Vector-Symbol-Decoding-with-AI/blob/main/Data_Generation_Using_PYLDPC.ipynb\" target=\"_parent\"><img src=\"https://colab.research.google.com/assets/colab-badge.svg\" alt=\"Open In Colab\"/></a>"
      ]
    },
    {
      "cell_type": "markdown",
      "metadata": {},
      "source": [
        "# --- 1. Setup Environment ---"
      ]
    },
    {
      "cell_type": "code",
      "execution_count": null,
      "metadata": {
        "colab": {
          "base_uri": "https://localhost:8080/"
        },
        "id": "ypvtos5RKpvj",
        "outputId": "6afee63f-298f-4902-b4fb-d612f3b1a136"
      },
      "outputs": [
        {
          "name": "stdout",
          "output_type": "stream",
          "text": [
            "Cloning into 'Vector-Symbol-Decoding-with-AI'...\n",
            "remote: Enumerating objects: 11753, done.\u001b[K\n",
            "remote: Counting objects: 100% (24/24), done.\u001b[K\n",
            "remote: Compressing objects: 100% (21/21), done.\u001b[K\n",
            "remote: Total 11753 (delta 5), reused 19 (delta 2), pack-reused 11729 (from 2)\u001b[K\n",
            "Receiving objects: 100% (11753/11753), 52.85 MiB | 22.03 MiB/s, done.\n",
            "Resolving deltas: 100% (653/653), done.\n"
          ]
        }
      ],
      "source": [
        "# Clone the repository (if running in Colab for the first time)\n",
        "#!git clone https://github.com/BenzThitikorn/Vector-Symbol-Decoding-with-AI.git\n",
        "\n",
        "# Navigate to the repository directory\n",
        "#cd /content/Vector-Symbol-Decoding-with-AI\n",
        "\n",
        "# Install the pyldpc library\n",
        "#!pip install --upgrade pyldpc"
      ]
    },
    {
      "cell_type": "markdown",
      "metadata": {
        "id": "VtP216cWWVq4"
      },
      "source": [
        "# --- 2. LDPC Code Parameters ---"
      ]
    },
    {
      "cell_type": "code",
      "execution_count": 1,
      "metadata": {
        "id": "Y_k3omwmWAsb"
      },
      "outputs": [
        {
          "name": "stdout",
          "output_type": "stream",
          "text": [
            "H matrix: 15 rows, 30 columns\n",
            "G matrix: 17 rows, 30 columns\n"
          ]
        }
      ],
      "source": [
        "from pyldpc import make_ldpc\n",
        "\n",
        "d_v = 3  # Variable node degree\n",
        "d_c = 6  # Check node degree\n",
        "\n",
        "n = 30 #Code lenght\n",
        "r = 16 #Symbol lenght\n",
        "\n",
        "# Generate parity check matrix (H) and generator matrix (G)\n",
        "H, Gt = make_ldpc(n, d_v=d_v, d_c=d_c, systematic=True, sparse=True, seed=1)\n",
        "G = Gt.T  # Transpose of Gt to get G\n",
        "j = G.shape[0]  # Number of rows in G\n",
        "\n",
        "print(f\"H matrix: {H.shape[0]} rows, {H.shape[1]} columns\")\n",
        "print(f\"G matrix: {G.shape[0]} rows, {G.shape[1]} columns\")"
      ]
    },
    {
      "cell_type": "markdown",
      "metadata": {
        "id": "xu7D61_MXBNR"
      },
      "source": [
        "# --- 3. Import Libraries and Custom Modules ---"
      ]
    },
    {
      "cell_type": "code",
      "execution_count": null,
      "metadata": {},
      "outputs": [
        {
          "name": "stdout",
          "output_type": "stream",
          "text": [
            "[Errno 2] No such file or directory: 'Function/'\n",
            "/Users/benzomorphism/Documents/Research(To be arrange)/Vector-Symbol-Decoding-with-AI/Function\n"
          ]
        }
      ],
      "source": [
        "#cd Function/"
      ]
    },
    {
      "cell_type": "code",
      "execution_count": 13,
      "metadata": {
        "id": "7l0WH8wTP0zd"
      },
      "outputs": [],
      "source": [
        "import Channel_Coding as cc\n",
        "import numpy as np\n",
        "from CCv2 import Compute_Gauss_Jordan_Reduction_Optimized, VSD_normal_get0fast\n",
        "\n",
        "def q_ary_error_channel(prob_error,num):\n",
        "\trng = np.random.default_rng()\n",
        "\tProbability = [1-prob_error, prob_error]\n",
        "\tchannel = rng.choice(2, num, p=Probability)\n",
        "\treturn channel\n",
        "\n",
        "def VSD_normal(H, Y):\n",
        "    Y_Binary = np.array(Y, dtype=int)\n",
        "\n",
        "    # Compute Syndrome Matrix\n",
        "    S_Binary = np.floor(np.mod(np.dot(H, Y_Binary), 2)).astype(int)\n",
        "    S_Gauss, S_rank, Index_Rows = Compute_Gauss_Jordan_Reduction_Optimized(S_Binary)\n",
        "\n",
        "    # Compute Error Locating Vector\n",
        "    Error_Locating_Vector = cc.Compute_Error_Locating_Vector(S_Gauss, Index_Rows, H)\n",
        "\n",
        "    # Find Number of Erroneous Symbols\n",
        "    Number_Error = np.count_nonzero(Error_Locating_Vector == 0)\n",
        "\n",
        "    if Number_Error == 0:\n",
        "        return Y, 1  # No errors detected\n",
        "\n",
        "    # Check if Rank of S matches Number of Erroneous Symbols\n",
        "    if S_rank == Number_Error:\n",
        "        S_Sub = S_Binary[Index_Rows, :]\n",
        "        Position_Error = np.where(Error_Locating_Vector == 0)[0]\n",
        "        H_Sub = H[np.ix_(Index_Rows, Position_Error)]\n",
        "\n",
        "        # Check if H_Sub is invertible\n",
        "        if np.linalg.det(H_Sub) == 0:\n",
        "            #print(\"normal\",H_Sub)\n",
        "            return Y_Binary, 0  # Cannot correct errors\n",
        "\n",
        "        H_Sub_inv = np.linalg.inv(H_Sub)\n",
        "        Error_Binary = np.floor(np.mod(np.dot(H_Sub_inv, S_Sub), 2)).astype(int)\n",
        "\n",
        "        # Correct the errors\n",
        "        for index in range(len(Position_Error)):\n",
        "            Y_Binary[Position_Error[index]] ^= Error_Binary[index]\n",
        "\n",
        "        Y_decode = Y_Binary  # Decoded output\n",
        "        return Y_decode, 1  # Successful correction\n",
        "    else:\n",
        "        return Y_Binary, 0  # Unable to correct errors"
      ]
    },
    {
      "cell_type": "markdown",
      "metadata": {
        "id": "gki0hKSrWdLI"
      },
      "source": [
        "# --- 4. Simulation (Single Sample) ---"
      ]
    },
    {
      "cell_type": "code",
      "execution_count": 15,
      "metadata": {
        "colab": {
          "base_uri": "https://localhost:8080/"
        },
        "id": "J_DZIWG6X9LE",
        "outputId": "33187877-be07-4c81-d2db-c30fd98c60de"
      },
      "outputs": [
        {
          "name": "stdout",
          "output_type": "stream",
          "text": [
            "Decoding successful\n",
            "All decoded values match codeword\n"
          ]
        }
      ],
      "source": [
        "from scipy.sparse import random as sparse_random\n",
        "\n",
        "num_samples = 1\n",
        "SER = 0.1  # Symbol Error Rate\n",
        "\n",
        "for i in range(num_samples):\n",
        "    error_positions = q_ary_error_channel(SER, n)  # Generate error positions\n",
        "    message = np.random.randint(0, 2, (r, j))  # Generate a random message\n",
        "    codeword = np.matmul(message, G).astype(np.int8) % 2  # Encode the message\n",
        "    error = np.zeros_like(codeword)  # Initialize error vector\n",
        "    error[:, error_positions == 1] = sparse_random(r, np.sum(error_positions), density=0.5, format='csr', dtype=int).toarray() % 2  # Introduce errors\n",
        "    Y = (codeword + error) % 2  # Received codeword\n",
        "    Y_decode, success = VSD_normal(H, Y.T)  # Decode the received codeword\n",
        "\n",
        "    if success == 1:\n",
        "        print(\"Decoding successful\")\n",
        "    else:\n",
        "        print(\"Decoding failed\")\n",
        "\n",
        "# Verify decoding result\n",
        "if 'Y_decode' in locals() and np.array_equal(Y_decode.T, codeword):\n",
        "    print(\"All decoded values match codeword\")\n",
        "else:\n",
        "    print(\"Decoded values don't match codeword\")"
      ]
    },
    {
      "cell_type": "markdown",
      "metadata": {},
      "source": [
        "# --- 5. Data Generation Function ---"
      ]
    },
    {
      "cell_type": "code",
      "execution_count": null,
      "metadata": {
        "id": "LhsmJSBRKlOM"
      },
      "outputs": [],
      "source": [
        "from tqdm import tqdm\n",
        "import pickle  # For saving data\n",
        "\n",
        "def generate_data(num_samples, SER, H, G):\n",
        "    \"\"\"\n",
        "    Generate training data for the LDPC code decoder with tqdm progress.\n",
        "    Stores X and Y if the process is interrupted.\n",
        "\n",
        "    Parameters:\n",
        "    - num_samples: Number of samples to generate\n",
        "    - SER: Symbol Error Rate\n",
        "    - H: Parity check matrix\n",
        "    - G: Generator matrix\n",
        "\n",
        "    Returns:\n",
        "    - X: Array of syndromes (features)\n",
        "    - Y: Array of error positions (labels)\n",
        "    \"\"\"\n",
        "    X = []\n",
        "    Y = []\n",
        "\n",
        "    try:\n",
        "        for i in tqdm(range(num_samples), desc=\"Generating Data\"):\n",
        "            error_positions = q_ary_error_channel(SER, n)\n",
        "            message = np.random.randint(0, 2, (r, j))\n",
        "            codeword = np.matmul(message, G).astype(np.int8) % 2\n",
        "            error = np.zeros_like(codeword)\n",
        "            error[:, error_positions == 1] = sparse_random(r, np.sum(error_positions), density=0.5, format='csr', dtype=int).toarray() % 2\n",
        "            received = (codeword + error) % 2\n",
        "            syndrome = np.dot(H, received.T) % 2\n",
        "            Y_decode, success = VSD_normal_get0fast(H, received.T)\n",
        "\n",
        "            if success == 0:\n",
        "                X.append(syndrome)\n",
        "                Y.append((error_positions + 1) % 2)\n",
        "\n",
        "    except KeyboardInterrupt:\n",
        "        print(\"\\nGeneration interrupted. Saving progress...\")\n",
        "        with open(\"interrupted_data.pkl\", \"wb\") as f:\n",
        "            pickle.dump({\"X\": X, \"Y\": Y}, f)\n",
        "        print(\"Progress saved to interrupted_data.pkl\")\n",
        "        return np.array(X).astype(bool), np.array(Y).astype(bool) #return the data that was generated.\n",
        "\n",
        "    print(f\"\\nGenerated {len(X)} samples from {num_samples} iterations\")\n",
        "    return np.array(X).astype(bool), np.array(Y).astype(bool)"
      ]
    },
    {
      "cell_type": "markdown",
      "metadata": {},
      "source": [
        "# --- 6. Generate and Save Data ---\n"
      ]
    },
    {
      "cell_type": "code",
      "execution_count": null,
      "metadata": {
        "colab": {
          "base_uri": "https://localhost:8080/"
        },
        "id": "z-SYc3ReKlON",
        "outputId": "b1146633-a29b-4b7e-e88f-3f59ccce161d"
      },
      "outputs": [
        {
          "name": "stderr",
          "output_type": "stream",
          "text": [
            "Generating Data: 100%|██████████| 1000/1000 [00:00<00:00, 1445.48it/s]"
          ]
        },
        {
          "name": "stdout",
          "output_type": "stream",
          "text": [
            "\n",
            "Generated 231 samples from 1000 iterations\n"
          ]
        },
        {
          "name": "stderr",
          "output_type": "stream",
          "text": [
            "\n"
          ]
        }
      ],
      "source": [
        "# Generate data\n",
        "X, Y = generate_data(num_samples=1000, SER=0.1, H=H, G=G)\n",
        "# Save the generated data\n",
        "np.save('X_data.npy', X)\n",
        "np.save('Y_data.npy', Y)"
      ]
    },
    {
      "cell_type": "markdown",
      "metadata": {},
      "source": [
        "# --- 7. Function to Extract Unique Samples ---"
      ]
    },
    {
      "cell_type": "code",
      "execution_count": null,
      "metadata": {
        "id": "mrewc_Ry0eZR"
      },
      "outputs": [],
      "source": [
        "def get_unique_x_and_y(X, Y):\n",
        "    \"\"\"\n",
        "    Filters X and Y to keep only unique X values and their corresponding Y values.\n",
        "\n",
        "    Args:\n",
        "        X: NumPy array of shape (num_samples, 15, 16).\n",
        "        Y: NumPy array of shape (num_samples, ...). Y can have any shape, but the first dimension must match X.\n",
        "\n",
        "    Returns:\n",
        "        unique_X: NumPy array containing only unique X values.\n",
        "        unique_Y: NumPy array containing the corresponding Y values.\n",
        "    \"\"\"\n",
        "\n",
        "    if X.shape[0] != Y.shape[0]:\n",
        "        raise ValueError(\"X and Y must have the same number of samples (first dimension).\")\n",
        "\n",
        "    unique_indices = []\n",
        "    seen_X = set()\n",
        "\n",
        "    for i in range(X.shape[0]):\n",
        "        x_tuple = tuple(X[i].flatten())  # Flatten X[i] for hashing\n",
        "\n",
        "        if x_tuple not in seen_X:\n",
        "            seen_X.add(x_tuple)\n",
        "            unique_indices.append(i)\n",
        "\n",
        "    unique_X = X[unique_indices]\n",
        "    unique_Y = Y[unique_indices]\n",
        "\n",
        "    return unique_X, unique_Y"
      ]
    },
    {
      "cell_type": "markdown",
      "metadata": {},
      "source": [
        "## --- Extract Unique Data and Save ---"
      ]
    },
    {
      "cell_type": "code",
      "execution_count": null,
      "metadata": {
        "id": "ZALR2wm60jzi"
      },
      "outputs": [],
      "source": [
        "unique_X, unique_Y = get_unique_x_and_y(X, Y)\n",
        "\n",
        "np.save('unique_X.npy', unique_X)\n",
        "np.save('unique_Y.npy', unique_Y)"
      ]
    },
    {
      "cell_type": "code",
      "execution_count": 36,
      "metadata": {
        "colab": {
          "base_uri": "https://localhost:8080/"
        },
        "id": "hIxYm8pL2mZm",
        "outputId": "bf0aae02-c2b0-49b9-836c-ff24efe3404a"
      },
      "outputs": [
        {
          "data": {
            "text/plain": [
              "(1701943, 15, 16)"
            ]
          },
          "execution_count": 36,
          "metadata": {},
          "output_type": "execute_result"
        }
      ],
      "source": [
        "unique_X.shape"
      ]
    },
    {
      "cell_type": "markdown",
      "metadata": {
        "id": "sO4_0npsODLY"
      },
      "source": [
        "# Appendix"
      ]
    },
    {
      "cell_type": "markdown",
      "metadata": {},
      "source": [
        "## --- Gauss-Jordan Elimination Comparison ---"
      ]
    },
    {
      "cell_type": "code",
      "execution_count": 25,
      "metadata": {},
      "outputs": [],
      "source": [
        "from numpy.random import randint\n",
        "import time\n",
        "import matplotlib.pyplot as plt\n",
        "\n",
        "def Compute_Gauss_Jordan_Reduction_Optimized(Original_matrix):\n",
        "    \"\"\"\n",
        "    Optimized Gauss-Jordan elimination implementation.\n",
        "\n",
        "    Args:\n",
        "        Original_matrix: The input matrix.\n",
        "\n",
        "    Returns:\n",
        "        The reduced matrix, rank, and row indices.\n",
        "    \"\"\"\n",
        "    Binary_matrix = np.array(Original_matrix, dtype=int)\n",
        "    index_operation_col = 0\n",
        "    rows = 0\n",
        "    Index_Rows = []\n",
        "    num_rows, num_cols = Binary_matrix.shape\n",
        "\n",
        "    while rows < num_rows and index_operation_col < num_cols:\n",
        "        columns_one = np.where(Binary_matrix[rows, :] == 1)[0]\n",
        "        if len(columns_one) > 0:\n",
        "            if index_operation_col in columns_one:\n",
        "                other_indices = columns_one[columns_one != index_operation_col]\n",
        "                if len(other_indices) > 0:\n",
        "                    Binary_matrix[:, other_indices] ^= Binary_matrix[:, [index_operation_col]]\n",
        "                Index_Rows.append(rows)\n",
        "                index_operation_col += 1\n",
        "                rows += 1\n",
        "            else:\n",
        "                change_index_col = columns_one[columns_one > index_operation_col]\n",
        "                if len(change_index_col) > 0:\n",
        "                    Binary_matrix[:, [index_operation_col, change_index_col[0]]] = Binary_matrix[:, [change_index_col[0], index_operation_col]]\n",
        "                else:\n",
        "                    rows += 1\n",
        "        else:\n",
        "            rows += 1\n",
        "    return Binary_matrix, index_operation_col, Index_Rows"
      ]
    },
    {
      "cell_type": "code",
      "execution_count": 26,
      "metadata": {
        "colab": {
          "base_uri": "https://localhost:8080/"
        },
        "id": "XDN7TQXFKlOO",
        "outputId": "515d1141-3a39-4b89-891e-b9531725b655"
      },
      "outputs": [
        {
          "name": "stdout",
          "output_type": "stream",
          "text": [
            "Matrices equal: True\n",
            "Ranks equal: True\n",
            "Row indices equal: True\n",
            "Time for original method: 0.070056 seconds\n",
            "Time for optimized method: 0.002136 seconds\n",
            "Speedup: 32.80x\n",
            "All results equal: True\n"
          ]
        }
      ],
      "source": [
        "# Example matrix for testing\n",
        "A = randint(0, 2, (50, 50))\n",
        "\n",
        "# Time the original and optimized Gauss-Jordan implementations\n",
        "start_time = time.time()\n",
        "result1, rank1, rows1 = cc.Compute_Gauss_Jordan_Reduction(A)\n",
        "time1 = time.time() - start_time\n",
        "\n",
        "start_time = time.time()\n",
        "result2, rank2, rows2 = Compute_Gauss_Jordan_Reduction_Optimized(A)\n",
        "time2 = time.time() - start_time\n",
        "\n",
        "# Check if results are equal\n",
        "matrices_equal = np.array_equal(result1, result2)\n",
        "ranks_equal = rank1 == rank2\n",
        "rows_equal = rows1 == rows2\n",
        "\n",
        "print(f\"Matrices equal: {matrices_equal}\")\n",
        "print(f\"Ranks equal: {ranks_equal}\")\n",
        "print(f\"Row indices equal: {rows_equal}\")\n",
        "print(f\"Time for original method: {time1:.6f} seconds\")\n",
        "print(f\"Time for optimized method: {time2:.6f} seconds\")\n",
        "print(f\"Speedup: {time1/time2:.2f}x\")\n",
        "\n",
        "# Overall equality\n",
        "all_equal = matrices_equal and ranks_equal and rows_equal\n",
        "print(f\"All results equal: {all_equal}\")\n"
      ]
    },
    {
      "cell_type": "markdown",
      "metadata": {},
      "source": [
        "# --- Function to Compare Gauss-Jordan Implementations ---\n"
      ]
    },
    {
      "cell_type": "code",
      "execution_count": null,
      "metadata": {
        "id": "1oxlyEelKlOP",
        "outputId": "18524bbd-8e47-4f83-de12-8043e02b6563"
      },
      "outputs": [],
      "source": [
        "def compare_gauss_jordan_implementations(matrix_sizes=[50, 100, 200, 300, 400, 500], trials=5):\n",
        "    \"\"\"\n",
        "    Compares the performance of the original and optimized Gauss-Jordan implementations.\n",
        "\n",
        "    Args:\n",
        "        matrix_sizes: List of matrix sizes to test.\n",
        "        trials: Number of trials to run for each matrix size.\n",
        "\n",
        "    Returns:\n",
        "        A dictionary containing the results of the comparison.\n",
        "    \"\"\"\n",
        "    times_original = []\n",
        "    times_optimized = []\n",
        "\n",
        "    for size in tqdm(matrix_sizes, desc=\"Testing different matrix sizes\"):\n",
        "        time_orig = 0\n",
        "        time_opt = 0\n",
        "\n",
        "        for _ in range(trials):\n",
        "            # Generate random binary matrix\n",
        "            test_matrix = np.random.randint(0, 2, (size, size))\n",
        "\n",
        "            # Time original implementation\n",
        "            start = time.time()\n",
        "            gauss_orig, rank_orig, rows_orig = cc.Compute_Gauss_Jordan_Reduction(test_matrix)\n",
        "            time_orig += time.time() - start\n",
        "\n",
        "            # Time optimized implementation\n",
        "            start = time.time()\n",
        "            gauss_opt, rank_opt, rows_opt = Compute_Gauss_Jordan_Reduction_Optimized(test_matrix)\n",
        "            time_opt += time.time() - start\n",
        "\n",
        "            # Verify results match\n",
        "            if not np.array_equal(gauss_orig, gauss_opt) or rank_orig != rank_opt:\n",
        "                print(f\"Warning: Results don't match for matrix size {size}\")\n",
        "\n",
        "        times_original.append(time_orig / trials)\n",
        "        times_optimized.append(time_opt / trials)\n",
        "\n",
        "    # Plot results\n",
        "    plt.figure(figsize=(10, 6))\n",
        "    plt.plot(matrix_sizes, times_original, 'o-', label='Original Implementation')\n",
        "    plt.plot(matrix_sizes, times_optimized, 's-', label='Optimized Implementation')\n",
        "    plt.xlabel('Matrix Size')\n",
        "    plt.ylabel('Average Time (seconds)')\n",
        "    plt.title('Performance Comparison of Gauss-Jordan Reduction Implementations')\n",
        "    plt.legend()\n",
        "    plt.grid(True)\n",
        "    plt.show()\n",
        "\n",
        "    # Calculate speedup\n",
        "    speedup = [t1/t2 for t1, t2 in zip(times_original, times_optimized)]\n",
        "    plt.figure(figsize=(10, 6))\n",
        "    plt.plot(matrix_sizes, speedup, 'o-')\n",
        "    plt.xlabel('Matrix Size')\n",
        "    plt.ylabel('Speedup Factor')\n",
        "    plt.title('Speedup from Optimization')\n",
        "    plt.grid(True)\n",
        "    plt.show()\n",
        "\n",
        "    # Print summary\n",
        "    print(\"\\nPerformance Summary:\")\n",
        "    print(\"Matrix Size | Original (s) | Optimized (s) | Speedup\")\n",
        "    print(\"-\" * 55)\n",
        "    for i, size in enumerate(matrix_sizes):\n",
        "        print(f\"{size:11d} | {times_original[i]:12.6f} | {times_optimized[i]:12.6f} | {speedup[i]:7.2f}x\")\n",
        "\n",
        "    return {\n",
        "        'matrix_sizes': matrix_sizes,\n",
        "        'times_original': times_original,\n",
        "        'times_optimized': times_optimized,\n",
        "        'speedup': speedup\n",
        "    }\n"
      ]
    },
    {
      "cell_type": "markdown",
      "metadata": {},
      "source": [
        "## ---  Run the Comparison ---"
      ]
    },
    {
      "cell_type": "code",
      "execution_count": 32,
      "metadata": {},
      "outputs": [
        {
          "name": "stderr",
          "output_type": "stream",
          "text": [
            "Testing different matrix sizes: 100%|██████████| 8/8 [32:52<00:00, 246.59s/it]\n"
          ]
        },
        {
          "data": {
            "image/png": "[encoded data removed]",
            "text/plain": [
              "<Figure size 1000x600 with 1 Axes>"
            ]
          },
          "metadata": {},
          "output_type": "display_data"
        },
        {
          "data": {
            "image/png": "[encoded data removed]",
            "text/plain": [
              "<Figure size 1000x600 with 1 Axes>"
            ]
          },
          "metadata": {},
          "output_type": "display_data"
        },
        {
          "name": "stdout",
          "output_type": "stream",
          "text": [
            "\n",
            "Performance Summary:\n",
            "Matrix Size | Original (s) | Optimized (s) | Speedup\n",
            "-------------------------------------------------------\n",
            "         50 |     0.124855 |     0.001764 |   70.78x\n",
            "        100 |     0.413609 |     0.006195 |   66.77x\n",
            "        200 |     3.378847 |     0.021236 |  159.11x\n",
            "        300 |    11.685164 |     0.048363 |  241.61x\n",
            "        400 |    27.241792 |     0.110539 |  246.45x\n",
            "        500 |    53.041288 |     0.195275 |  271.62x\n",
            "        700 |   147.088089 |     0.608154 |  241.86x\n",
            "       1000 |   411.760151 |     1.821325 |  226.08x\n"
          ]
        },
        {
          "data": {
            "text/plain": [
              "{'matrix_sizes': [50, 100, 200, 300, 400, 500, 700, 1000],\n",
              " 'times_original': [0.12485464413960774,\n",
              "  0.41360926628112793,\n",
              "  3.378847042719523,\n",
              "  11.685164054234823,\n",
              "  27.241791884104412,\n",
              "  53.04128829638163,\n",
              "  147.08808914820352,\n",
              "  411.7601507504781],\n",
              " 'times_optimized': [0.0017639795939127605,\n",
              "  0.006194591522216797,\n",
              "  0.021236260732014973,\n",
              "  0.04836320877075195,\n",
              "  0.11053856213887532,\n",
              "  0.19527546564737955,\n",
              "  0.6081539789835612,\n",
              "  1.8213249842325847],\n",
              " 'speedup': [70.78009551270499,\n",
              "  66.76941728889231,\n",
              "  159.10743823302673,\n",
              "  241.6126711034426,\n",
              "  246.44604884473836,\n",
              "  271.6229000941748,\n",
              "  241.8599470384776,\n",
              "  226.07725382077996]}"
            ]
          },
          "execution_count": 32,
          "metadata": {},
          "output_type": "execute_result"
        }
      ],
      "source": [
        "compare_gauss_jordan_implementations(matrix_sizes=[50, 100, 200, 300, 400, 500, 700, 1000], trials=3)"
      ]
    },
    {
      "cell_type": "code",
      "execution_count": 39,
      "metadata": {},
      "outputs": [
        {
          "name": "stderr",
          "output_type": "stream",
          "text": [
            "Running simulations: 100%|██████████| 1000/1000 [00:07<00:00, 125.20it/s]"
          ]
        },
        {
          "name": "stdout",
          "output_type": "stream",
          "text": [
            "Matrix equality: 1000/1000 (100.00%)\n",
            "Rank equality: 1000/1000 (100.00%)\n",
            "Row indices equality: 1000/1000 (100.00%)\n",
            "Perfect equality: True\n"
          ]
        },
        {
          "name": "stderr",
          "output_type": "stream",
          "text": [
            "\n"
          ]
        }
      ],
      "source": [
        "import numpy as np\n",
        "from tqdm import tqdm\n",
        "\n",
        "# Simulate random matrices and count how many times the results are equal\n",
        "\n",
        "num_simulations = 1000\n",
        "equal_count = 0\n",
        "rank_equal_count = 0\n",
        "rows_equal_count = 0\n",
        "\n",
        "for i in tqdm(range(num_simulations), desc=\"Running simulations\"):\n",
        "    # Generate random binary matrix of appropriate size\n",
        "    test_matrix = np.random.randint(0, 2, (30, 30))\n",
        "    \n",
        "    # Run both implementations\n",
        "    result1, rank1, rows1 = cc.Compute_Gauss_Jordan_Reduction(test_matrix)\n",
        "    result2, rank2, rows2 = Compute_Gauss_Jordan_Reduction_Optimized(test_matrix)\n",
        "    \n",
        "    # Check if results are equal\n",
        "    if np.array_equal(result1, result2):\n",
        "        equal_count += 1\n",
        "    \n",
        "    if rank1 == rank2:\n",
        "        rank_equal_count += 1\n",
        "        \n",
        "    if rows1 == rows2:\n",
        "        rows_equal_count += 1\n",
        "\n",
        "# Print results\n",
        "print(f\"Matrix equality: {equal_count}/{num_simulations} ({equal_count/num_simulations*100:.2f}%)\")\n",
        "print(f\"Rank equality: {rank_equal_count}/{num_simulations} ({rank_equal_count/num_simulations*100:.2f}%)\")\n",
        "print(f\"Row indices equality: {rows_equal_count}/{num_simulations} ({rows_equal_count/num_simulations*100:.2f}%)\")\n",
        "print(f\"Perfect equality: {(equal_count == rank_equal_count == rows_equal_count == num_simulations)}\")\n",
        "\n"
      ]
    }
  ],
  "metadata": {
    "colab": {
      "include_colab_link": true,
      "machine_shape": "hm",
      "provenance": []
    },
    "kernelspec": {
      "display_name": "base",
      "language": "python",
      "name": "python3"
    },
    "language_info": {
      "codemirror_mode": {
        "name": "ipython",
        "version": 3
      },
      "file_extension": ".py",
      "mimetype": "text/x-python",
      "name": "python",
      "nbconvert_exporter": "python",
      "pygments_lexer": "ipython3",
      "version": "3.12.9"
    }
  },
  "nbformat": 4,
  "nbformat_minor": 0
}
